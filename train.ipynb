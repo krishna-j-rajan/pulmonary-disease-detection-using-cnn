{
 "cells": [
  {
   "cell_type": "code",
   "execution_count": 3,
   "metadata": {},
   "outputs": [],
   "source": [
    "from tensorflow.keras.models import Sequential\n",
    "from tensorflow.keras.layers import Flatten, Dense, Conv2D, MaxPooling2D, Activation, Dropout\n",
    "from tensorflow.keras.utils import normalize\n",
    "from tensorflow.keras.models import load_model\n",
    "from tensorflow.keras.callbacks import TensorBoard\n",
    "from tensorflow.keras.metrics import Precision, Recall, SparseCategoricalAccuracy\n",
    "from tensorflow.keras.callbacks import ReduceLROnPlateau, EarlyStopping, ModelCheckpoint\n",
    "from tensorflow.keras.preprocessing.image import ImageDataGenerator\n",
    "from sklearn.metrics import accuracy_score\n",
    "from sklearn.metrics import precision_score\n",
    "from sklearn.metrics import recall_score\n",
    "from sklearn.metrics import f1_score\n",
    "from sklearn.metrics import confusion_matrix\n",
    "from matplotlib import pyplot as plt\n",
    "import seaborn as sn\n",
    "import pandas as pd\n",
    "import numpy as np\n",
    "import cv2\n",
    "import random\n",
    "import os\n"
   ]
  },
  {
   "cell_type": "code",
   "execution_count": 26,
   "metadata": {},
   "outputs": [],
   "source": [
    "TRAIN_DIR = 'ZhangLabData/CellData/chest_xray/train'\n",
    "TEST_DIR = 'ZhangLabData/CellData/chest_xray/test'\n",
    "categories = ['NORMAL', 'PNEUMONIA']"
   ]
  },
  {
   "cell_type": "code",
   "execution_count": 27,
   "metadata": {},
   "outputs": [],
   "source": [
    "#change the size of the X-ray image for better processing\n",
    "IMG_SIZE = 224\n"
   ]
  },
  {
   "cell_type": "code",
   "execution_count": 28,
   "metadata": {},
   "outputs": [],
   "source": [
    "#lets create training data\n",
    "train_data = []\n",
    "\n",
    "#used to assign label to the given train\n",
    "def assign_label(img):\n",
    "    label = -1\n",
    "    type_x = img.split('-')[0]\n",
    "    \n",
    "    if type_x == 'NORMAL':\n",
    "        label = 0\n",
    "    elif type_x == 'BACTERIA':\n",
    "        label = 1\n",
    "    else:\n",
    "        label = 2\n",
    "    \n",
    "    return label\n",
    "\n",
    "def load_train_data():\n",
    "    for category in categories:\n",
    "        path = os.path.join(TRAIN_DIR, category)\n",
    "        for img in os.listdir(path):\n",
    "            label = assign_label(img)\n",
    "            try:\n",
    "                img_data = cv2.imread(os.path.join(path, img))\n",
    "                new_data = resize_img(img_data)\n",
    "                train_data.append([new_data, label])\n",
    "            except Exception as e:\n",
    "                print(e)\n",
    "\n",
    "load_train_data()\n",
    "random.shuffle(train_data)"
   ]
  },
  {
   "cell_type": "code",
   "execution_count": 29,
   "metadata": {},
   "outputs": [
    {
     "name": "stdout",
     "output_type": "stream",
     "text": [
      "OpenCV(4.5.5) D:\\bld\\libopencv_1654292817370\\work\\modules\\imgproc\\src\\resize.cpp:4052: error: (-215:Assertion failed) !ssize.empty() in function 'cv::resize'\n",
      "\n"
     ]
    }
   ],
   "source": [
    "test_data = []\n",
    "\n",
    "def load_test_data():\n",
    "    for category in categories:\n",
    "        path = os.path.join(TEST_DIR, category)\n",
    "        for img in os.listdir(path):\n",
    "            label = assign_label(img)\n",
    "            try:\n",
    "                img_data = cv2.imread(os.path.join(path, img))\n",
    "                new_data = resize_img(img_data)\n",
    "                test_data.append([new_data, label])\n",
    "            except Exception as e:\n",
    "                print(e)\n",
    "\n",
    "load_test_data()\n",
    "random.shuffle(test_data)"
   ]
  },
  {
   "cell_type": "code",
   "execution_count": 30,
   "metadata": {},
   "outputs": [
    {
     "ename": "MemoryError",
     "evalue": "Unable to allocate 5.87 GiB for an array with shape (5232, 224, 224, 3) and data type float64",
     "output_type": "error",
     "traceback": [
      "\u001b[1;31m---------------------------------------------------------------------------\u001b[0m",
      "\u001b[1;31mMemoryError\u001b[0m                               Traceback (most recent call last)",
      "Input \u001b[1;32mIn [30]\u001b[0m, in \u001b[0;36m<cell line: 17>\u001b[1;34m()\u001b[0m\n\u001b[0;32m     13\u001b[0m     X \u001b[38;5;241m=\u001b[39m X \u001b[38;5;241m=\u001b[39m normalize(X, axis \u001b[38;5;241m=\u001b[39m \u001b[38;5;241m1\u001b[39m)\n\u001b[0;32m     15\u001b[0m     \u001b[38;5;28;01mreturn\u001b[39;00m X,y\n\u001b[1;32m---> 17\u001b[0m X_train, y_train \u001b[38;5;241m=\u001b[39m \u001b[43mconvert2np\u001b[49m\u001b[43m(\u001b[49m\u001b[43mtrain_data\u001b[49m\u001b[43m)\u001b[49m\n\u001b[0;32m     18\u001b[0m X_test, y_test \u001b[38;5;241m=\u001b[39m convert2np(test_data)\n",
      "Input \u001b[1;32mIn [30]\u001b[0m, in \u001b[0;36mconvert2np\u001b[1;34m(data_arr)\u001b[0m\n\u001b[0;32m     10\u001b[0m X \u001b[38;5;241m=\u001b[39m np\u001b[38;5;241m.\u001b[39marray(X)\u001b[38;5;241m.\u001b[39mreshape(\u001b[38;5;241m-\u001b[39m\u001b[38;5;241m1\u001b[39m, IMG_SIZE,IMG_SIZE, \u001b[38;5;241m3\u001b[39m)\n\u001b[0;32m     11\u001b[0m y \u001b[38;5;241m=\u001b[39m np\u001b[38;5;241m.\u001b[39marray(y)\n\u001b[1;32m---> 13\u001b[0m X \u001b[38;5;241m=\u001b[39m X \u001b[38;5;241m=\u001b[39m \u001b[43mnormalize\u001b[49m\u001b[43m(\u001b[49m\u001b[43mX\u001b[49m\u001b[43m,\u001b[49m\u001b[43m \u001b[49m\u001b[43maxis\u001b[49m\u001b[43m \u001b[49m\u001b[38;5;241;43m=\u001b[39;49m\u001b[43m \u001b[49m\u001b[38;5;241;43m1\u001b[39;49m\u001b[43m)\u001b[49m\n\u001b[0;32m     15\u001b[0m \u001b[38;5;28;01mreturn\u001b[39;00m X,y\n",
      "File \u001b[1;32m~\\AppData\\Roaming\\Python\\Python39\\site-packages\\tensorflow\\python\\keras\\utils\\np_utils.py:93\u001b[0m, in \u001b[0;36mnormalize\u001b[1;34m(x, axis, order)\u001b[0m\n",
      "File \u001b[1;32m<__array_function__ internals>:5\u001b[0m, in \u001b[0;36mnorm\u001b[1;34m(*args, **kwargs)\u001b[0m\n",
      "File \u001b[1;32m~\\anaconda3\\envs\\pneumonia_detection\\lib\\site-packages\\numpy\\linalg\\linalg.py:2560\u001b[0m, in \u001b[0;36mnorm\u001b[1;34m(x, ord, axis, keepdims)\u001b[0m\n\u001b[0;32m   2557\u001b[0m     \u001b[38;5;28;01mreturn\u001b[39;00m add\u001b[38;5;241m.\u001b[39mreduce(\u001b[38;5;28mabs\u001b[39m(x), axis\u001b[38;5;241m=\u001b[39maxis, keepdims\u001b[38;5;241m=\u001b[39mkeepdims)\n\u001b[0;32m   2558\u001b[0m \u001b[38;5;28;01melif\u001b[39;00m \u001b[38;5;28mord\u001b[39m \u001b[38;5;129;01mis\u001b[39;00m \u001b[38;5;28;01mNone\u001b[39;00m \u001b[38;5;129;01mor\u001b[39;00m \u001b[38;5;28mord\u001b[39m \u001b[38;5;241m==\u001b[39m \u001b[38;5;241m2\u001b[39m:\n\u001b[0;32m   2559\u001b[0m     \u001b[38;5;66;03m# special case for speedup\u001b[39;00m\n\u001b[1;32m-> 2560\u001b[0m     s \u001b[38;5;241m=\u001b[39m (\u001b[43mx\u001b[49m\u001b[38;5;241;43m.\u001b[39;49m\u001b[43mconj\u001b[49m\u001b[43m(\u001b[49m\u001b[43m)\u001b[49m\u001b[43m \u001b[49m\u001b[38;5;241;43m*\u001b[39;49m\u001b[43m \u001b[49m\u001b[43mx\u001b[49m)\u001b[38;5;241m.\u001b[39mreal\n\u001b[0;32m   2561\u001b[0m     \u001b[38;5;28;01mreturn\u001b[39;00m sqrt(add\u001b[38;5;241m.\u001b[39mreduce(s, axis\u001b[38;5;241m=\u001b[39maxis, keepdims\u001b[38;5;241m=\u001b[39mkeepdims))\n\u001b[0;32m   2562\u001b[0m \u001b[38;5;66;03m# None of the str-type keywords for ord ('fro', 'nuc') \u001b[39;00m\n\u001b[0;32m   2563\u001b[0m \u001b[38;5;66;03m# are valid for vectors\u001b[39;00m\n",
      "\u001b[1;31mMemoryError\u001b[0m: Unable to allocate 5.87 GiB for an array with shape (5232, 224, 224, 3) and data type float64"
     ]
    }
   ],
   "source": [
    "X_train,X_test = [],[]\n",
    "y_train, y_test = [],[]\n",
    "\n",
    "def convert2np(data_arr):\n",
    "    X,y = [],[]\n",
    "    for data, label in data_arr:\n",
    "        X.append(data)\n",
    "        y.append(label)\n",
    "    \n",
    "    X = np.array(X).reshape(-1, IMG_SIZE,IMG_SIZE, 3)\n",
    "    y = np.array(y)\n",
    "    \n",
    "    X = X = normalize(X, axis = 1)\n",
    "        \n",
    "    return X,y\n",
    "\n",
    "X_train, y_train = convert2np(train_data)\n",
    "X_test, y_test = convert2np(test_data)"
   ]
  },
  {
   "cell_type": "code",
   "execution_count": 13,
   "metadata": {},
   "outputs": [
    {
     "name": "stdout",
     "output_type": "stream",
     "text": [
      "5232\n"
     ]
    }
   ],
   "source": [
    "# randomize the data before training\n",
    "def shuffle_data(X,y):\n",
    "    zipped_train = list(zip(X,y))\n",
    "    shuffle(zipped_train)\n",
    "    X, y = zip(*zipped_train)\n",
    "    return np.array(X),np.array(y)\n",
    "\n",
    "X_train, y_train = shuffle_data(X_train, y_train)\n",
    "\n",
    "print(len(X_train))\n",
    "X_val,y_val = X_train[:520],y_train[:520] \n",
    "X_train,y_train = X_train[520:], y_train[520:]"
   ]
  },
  {
   "cell_type": "code",
   "execution_count": 14,
   "metadata": {
    "scrolled": true
   },
   "outputs": [
    {
     "name": "stderr",
     "output_type": "stream",
     "text": [
      "C:\\Users\\ACER\\AppData\\Roaming\\Python\\Python39\\site-packages\\tensorflow\\python\\keras\\engine\\training.py:1940: UserWarning: `Model.fit_generator` is deprecated and will be removed in a future version. Please use `Model.fit`, which supports generators.\n",
      "  warnings.warn('`Model.fit_generator` is deprecated and '\n"
     ]
    },
    {
     "name": "stdout",
     "output_type": "stream",
     "text": [
      "Epoch 1/50\n",
      "73/73 [==============================] - 152s 2s/step - loss: 1.0738 - sparse_categorical_accuracy: 0.4877 - val_loss: 0.9605 - val_sparse_categorical_accuracy: 0.5577\n",
      "Epoch 2/50\n",
      "73/73 [==============================] - 138s 2s/step - loss: 0.9273 - sparse_categorical_accuracy: 0.5893 - val_loss: 0.9080 - val_sparse_categorical_accuracy: 0.5788\n",
      "Epoch 3/50\n",
      "73/73 [==============================] - 115s 2s/step - loss: 0.8705 - sparse_categorical_accuracy: 0.6203 - val_loss: 0.8804 - val_sparse_categorical_accuracy: 0.5942\n",
      "Epoch 4/50\n",
      "73/73 [==============================] - 115s 2s/step - loss: 0.8478 - sparse_categorical_accuracy: 0.6269 - val_loss: 0.7776 - val_sparse_categorical_accuracy: 0.6615\n",
      "Epoch 5/50\n",
      "73/73 [==============================] - 115s 2s/step - loss: 0.8011 - sparse_categorical_accuracy: 0.6540 - val_loss: 0.7372 - val_sparse_categorical_accuracy: 0.6692\n",
      "Epoch 6/50\n",
      "73/73 [==============================] - 116s 2s/step - loss: 0.7513 - sparse_categorical_accuracy: 0.6779 - val_loss: 0.7299 - val_sparse_categorical_accuracy: 0.6769\n",
      "Epoch 7/50\n",
      "73/73 [==============================] - 116s 2s/step - loss: 0.7179 - sparse_categorical_accuracy: 0.6964 - val_loss: 0.7377 - val_sparse_categorical_accuracy: 0.6865\n",
      "Epoch 8/50\n",
      "73/73 [==============================] - 115s 2s/step - loss: 0.7066 - sparse_categorical_accuracy: 0.7083 - val_loss: 0.6769 - val_sparse_categorical_accuracy: 0.6923\n",
      "Epoch 9/50\n",
      "73/73 [==============================] - 122s 2s/step - loss: 0.6772 - sparse_categorical_accuracy: 0.7134 - val_loss: 0.6621 - val_sparse_categorical_accuracy: 0.7077\n",
      "Epoch 10/50\n",
      "73/73 [==============================] - 115s 2s/step - loss: 0.6631 - sparse_categorical_accuracy: 0.7143 - val_loss: 0.6265 - val_sparse_categorical_accuracy: 0.7115\n",
      "Epoch 11/50\n",
      "73/73 [==============================] - 118s 2s/step - loss: 0.6470 - sparse_categorical_accuracy: 0.7192 - val_loss: 0.6267 - val_sparse_categorical_accuracy: 0.7154\n",
      "Epoch 12/50\n",
      "73/73 [==============================] - 128s 2s/step - loss: 0.6379 - sparse_categorical_accuracy: 0.7253 - val_loss: 0.6022 - val_sparse_categorical_accuracy: 0.7519\n",
      "Epoch 13/50\n",
      "73/73 [==============================] - 115s 2s/step - loss: 0.6219 - sparse_categorical_accuracy: 0.7349 - val_loss: 0.6425 - val_sparse_categorical_accuracy: 0.7173\n",
      "Epoch 14/50\n",
      "73/73 [==============================] - 115s 2s/step - loss: 0.6159 - sparse_categorical_accuracy: 0.7354 - val_loss: 0.5813 - val_sparse_categorical_accuracy: 0.7500\n",
      "Epoch 15/50\n",
      "73/73 [==============================] - 115s 2s/step - loss: 0.6020 - sparse_categorical_accuracy: 0.7446 - val_loss: 0.5732 - val_sparse_categorical_accuracy: 0.7385\n",
      "Epoch 16/50\n",
      "73/73 [==============================] - 115s 2s/step - loss: 0.5939 - sparse_categorical_accuracy: 0.7534 - val_loss: 0.5891 - val_sparse_categorical_accuracy: 0.7308\n",
      "Epoch 17/50\n",
      "73/73 [==============================] - 115s 2s/step - loss: 0.5874 - sparse_categorical_accuracy: 0.7498 - val_loss: 0.6247 - val_sparse_categorical_accuracy: 0.7308\n",
      "Epoch 18/50\n",
      "73/73 [==============================] - 114s 2s/step - loss: 0.5787 - sparse_categorical_accuracy: 0.7522 - val_loss: 0.5941 - val_sparse_categorical_accuracy: 0.7481\n",
      "Epoch 19/50\n",
      "73/73 [==============================] - 114s 2s/step - loss: 0.5597 - sparse_categorical_accuracy: 0.7590 - val_loss: 0.5729 - val_sparse_categorical_accuracy: 0.7538\n",
      "Epoch 20/50\n",
      "73/73 [==============================] - 113s 2s/step - loss: 0.5779 - sparse_categorical_accuracy: 0.7522 - val_loss: 0.5738 - val_sparse_categorical_accuracy: 0.7596\n",
      "Epoch 21/50\n",
      "73/73 [==============================] - 114s 2s/step - loss: 0.5597 - sparse_categorical_accuracy: 0.7620 - val_loss: 0.5143 - val_sparse_categorical_accuracy: 0.7712\n",
      "Epoch 22/50\n",
      "73/73 [==============================] - 113s 2s/step - loss: 0.5523 - sparse_categorical_accuracy: 0.7618 - val_loss: 0.5430 - val_sparse_categorical_accuracy: 0.7904\n",
      "Epoch 23/50\n",
      "73/73 [==============================] - 114s 2s/step - loss: 0.5324 - sparse_categorical_accuracy: 0.7765 - val_loss: 0.5307 - val_sparse_categorical_accuracy: 0.7750\n",
      "Epoch 24/50\n",
      "73/73 [==============================] - 113s 2s/step - loss: 0.5336 - sparse_categorical_accuracy: 0.7730 - val_loss: 0.5557 - val_sparse_categorical_accuracy: 0.7731\n",
      "Epoch 25/50\n",
      "73/73 [==============================] - 114s 2s/step - loss: 0.5332 - sparse_categorical_accuracy: 0.7758 - val_loss: 0.6812 - val_sparse_categorical_accuracy: 0.7327\n",
      "Epoch 26/50\n",
      "73/73 [==============================] - 113s 2s/step - loss: 0.5264 - sparse_categorical_accuracy: 0.7760 - val_loss: 0.4876 - val_sparse_categorical_accuracy: 0.7923\n",
      "Epoch 27/50\n",
      "73/73 [==============================] - 115s 2s/step - loss: 0.5181 - sparse_categorical_accuracy: 0.7810 - val_loss: 0.5300 - val_sparse_categorical_accuracy: 0.7769\n",
      "Epoch 28/50\n",
      "73/73 [==============================] - 114s 2s/step - loss: 0.5221 - sparse_categorical_accuracy: 0.7793 - val_loss: 0.5632 - val_sparse_categorical_accuracy: 0.7558\n",
      "Epoch 29/50\n",
      "73/73 [==============================] - 114s 2s/step - loss: 0.5250 - sparse_categorical_accuracy: 0.7775 - val_loss: 0.5257 - val_sparse_categorical_accuracy: 0.7846\n",
      "Epoch 30/50\n",
      "73/73 [==============================] - 115s 2s/step - loss: 0.5103 - sparse_categorical_accuracy: 0.7814 - val_loss: 0.6015 - val_sparse_categorical_accuracy: 0.7635\n",
      "Epoch 31/50\n",
      "73/73 [==============================] - 116s 2s/step - loss: 0.5026 - sparse_categorical_accuracy: 0.7795 - val_loss: 0.5512 - val_sparse_categorical_accuracy: 0.7788\n",
      "Epoch 32/50\n",
      "73/73 [==============================] - 118s 2s/step - loss: 0.5104 - sparse_categorical_accuracy: 0.7836 - val_loss: 0.4822 - val_sparse_categorical_accuracy: 0.7865\n",
      "Epoch 33/50\n",
      "73/73 [==============================] - 117s 2s/step - loss: 0.5009 - sparse_categorical_accuracy: 0.7827 - val_loss: 0.5424 - val_sparse_categorical_accuracy: 0.7788\n",
      "Epoch 34/50\n",
      "73/73 [==============================] - 114s 2s/step - loss: 0.5012 - sparse_categorical_accuracy: 0.7883 - val_loss: 0.4782 - val_sparse_categorical_accuracy: 0.8000\n",
      "Epoch 35/50\n",
      "73/73 [==============================] - 115s 2s/step - loss: 0.4982 - sparse_categorical_accuracy: 0.7885 - val_loss: 0.5115 - val_sparse_categorical_accuracy: 0.7808\n",
      "Epoch 36/50\n",
      "73/73 [==============================] - 114s 2s/step - loss: 0.5030 - sparse_categorical_accuracy: 0.7885 - val_loss: 0.5066 - val_sparse_categorical_accuracy: 0.7923\n",
      "Epoch 37/50\n",
      "73/73 [==============================] - 114s 2s/step - loss: 0.5017 - sparse_categorical_accuracy: 0.7866 - val_loss: 0.4463 - val_sparse_categorical_accuracy: 0.8019\n",
      "Epoch 38/50\n",
      "73/73 [==============================] - 115s 2s/step - loss: 0.4901 - sparse_categorical_accuracy: 0.7879 - val_loss: 0.5070 - val_sparse_categorical_accuracy: 0.7942\n",
      "Epoch 39/50\n",
      "73/73 [==============================] - 113s 2s/step - loss: 0.4907 - sparse_categorical_accuracy: 0.7948 - val_loss: 0.4648 - val_sparse_categorical_accuracy: 0.8000\n",
      "Epoch 40/50\n",
      "73/73 [==============================] - 113s 2s/step - loss: 0.4792 - sparse_categorical_accuracy: 0.7945 - val_loss: 0.4858 - val_sparse_categorical_accuracy: 0.7923\n",
      "Epoch 41/50\n",
      "73/73 [==============================] - 115s 2s/step - loss: 0.4943 - sparse_categorical_accuracy: 0.7864 - val_loss: 0.4930 - val_sparse_categorical_accuracy: 0.7962\n",
      "Epoch 42/50\n",
      "73/73 [==============================] - 114s 2s/step - loss: 0.4860 - sparse_categorical_accuracy: 0.7952 - val_loss: 0.5167 - val_sparse_categorical_accuracy: 0.7981\n",
      "Epoch 43/50\n",
      "73/73 [==============================] - 117s 2s/step - loss: 0.4779 - sparse_categorical_accuracy: 0.7967 - val_loss: 0.5211 - val_sparse_categorical_accuracy: 0.7942\n",
      "Epoch 44/50\n",
      "73/73 [==============================] - 116s 2s/step - loss: 0.4797 - sparse_categorical_accuracy: 0.7943 - val_loss: 0.4955 - val_sparse_categorical_accuracy: 0.7788\n",
      "Epoch 45/50\n",
      "73/73 [==============================] - 114s 2s/step - loss: 0.4713 - sparse_categorical_accuracy: 0.7984 - val_loss: 0.4856 - val_sparse_categorical_accuracy: 0.7904\n",
      "Epoch 46/50\n",
      "73/73 [==============================] - 114s 2s/step - loss: 0.4848 - sparse_categorical_accuracy: 0.7965 - val_loss: 0.5538 - val_sparse_categorical_accuracy: 0.7808\n",
      "Epoch 47/50\n",
      "73/73 [==============================] - 120s 2s/step - loss: 0.4806 - sparse_categorical_accuracy: 0.8003 - val_loss: 0.4904 - val_sparse_categorical_accuracy: 0.7846\n",
      "Epoch 48/50\n",
      "73/73 [==============================] - 120s 2s/step - loss: 0.4647 - sparse_categorical_accuracy: 0.7963 - val_loss: 0.5158 - val_sparse_categorical_accuracy: 0.7769\n",
      "Epoch 49/50\n",
      "73/73 [==============================] - 122s 2s/step - loss: 0.4643 - sparse_categorical_accuracy: 0.8014 - val_loss: 0.5057 - val_sparse_categorical_accuracy: 0.7827\n",
      "Epoch 50/50\n",
      "73/73 [==============================] - 118s 2s/step - loss: 0.4602 - sparse_categorical_accuracy: 0.8057 - val_loss: 0.4944 - val_sparse_categorical_accuracy: 0.8058\n"
     ]
    }
   ],
   "source": [
    "bsize = 64\n",
    "epochs = 50\n",
    "\n",
    "aug = ImageDataGenerator(rotation_range=20,\tzoom_range=0.3,\tvertical_flip=True)\n",
    "#build model using keras\n",
    "\n",
    "model = Sequential()\n",
    "\n",
    "model.add(Conv2D(32, (3,3), input_shape = X_train.shape[1:]))\n",
    "model.add(Activation('relu'))\n",
    "model.add(MaxPooling2D(pool_size = (2,2)))\n",
    "\n",
    "model.add(Conv2D(64, (3,3)))\n",
    "model.add(Activation('relu'))\n",
    "model.add(MaxPooling2D(pool_size = (2,2)))\n",
    "\n",
    "model.add(Conv2D(128, (3,3)))\n",
    "model.add(Activation('relu'))\n",
    "model.add(MaxPooling2D(pool_size = (2,2)))\n",
    "model.add(Dropout(0.2))\n",
    "\n",
    "model.add(Conv2D(128, (3,3)))\n",
    "model.add(Activation('relu'))\n",
    "model.add(MaxPooling2D(pool_size = (2,2)))\n",
    "model.add(Dropout(0.2))\n",
    "\n",
    "model.add(Flatten())\n",
    "model.add(Dense(64))\n",
    "model.add(Activation('relu'))\n",
    "\n",
    "model.add(Dense(3))\n",
    "model.add(Activation('softmax'))\n",
    "\n",
    "model.compile(optimizer = 'rmsprop', loss = 'sparse_categorical_crossentropy', metrics = [SparseCategoricalAccuracy()])\n",
    "\n",
    "hist = model.fit_generator(aug.flow(X_train,y_train, batch_size = bsize), \n",
    "                          steps_per_epoch=len(X_train) // bsize,\n",
    "                          epochs = epochs,\n",
    "                          validation_data= (X_val, y_val))\n",
    "\n",
    "model.save('pneumonia_train.h5')\n",
    "\n"
   ]
  },
  {
   "cell_type": "code",
   "execution_count": 16,
   "metadata": {},
   "outputs": [
    {
     "name": "stderr",
     "output_type": "stream",
     "text": [
      "C:\\Users\\ACER\\AppData\\Roaming\\Python\\Python39\\site-packages\\tensorflow\\python\\keras\\engine\\sequential.py:455: UserWarning: `model.predict_classes()` is deprecated and will be removed after 2021-01-01. Please use instead:* `np.argmax(model.predict(x), axis=-1)`,   if your model does multi-class classification   (e.g. if it uses a `softmax` last-layer activation).* `(model.predict(x) > 0.5).astype(\"int32\")`,   if your model does binary classification   (e.g. if it uses a `sigmoid` last-layer activation).\n",
      "  warnings.warn('`model.predict_classes()` is deprecated and '\n"
     ]
    }
   ],
   "source": [
    "# model = load_model('best_model.hdf5')\n",
    "train_acc = model.evaluate(X_train,y_train ,verbose = False)\n",
    "test_acc = model.evaluate(X_test, y_test, verbose = False)\n",
    "yhat_classes = model.predict_classes(X_test, verbose=0)"
   ]
  },
  {
   "cell_type": "code",
   "execution_count": 17,
   "metadata": {},
   "outputs": [
    {
     "name": "stdout",
     "output_type": "stream",
     "text": [
      "Training: Accuracy = 0.8132427930831909\n",
      "Test: Accuracy = 0.8782051205635071\n",
      "\n",
      "Training: Loss = 0.43726131319999695\n",
      "Test: Loss = 0.4415041506290436\n",
      "\n"
     ]
    }
   ],
   "source": [
    "print(f'Training: Accuracy = {train_acc[1]}')\n",
    "print(f'Test: Accuracy = {test_acc[1]}\\n')\n",
    "\n",
    "print(f'Training: Loss = {train_acc[0]}')\n",
    "print(f'Test: Loss = {test_acc[0]}\\n')\n"
   ]
  },
  {
   "cell_type": "code",
   "execution_count": 18,
   "metadata": {},
   "outputs": [
    {
     "data": {
      "image/png": "[encoded data removed]",
      "text/plain": [
       "<Figure size 432x288 with 2 Axes>"
      ]
     },
     "metadata": {
      "needs_background": "light"
     },
     "output_type": "display_data"
    }
   ],
   "source": [
    "#PLot graphs for loss and accuracy yduring training\n",
    "\n",
    "# plot loss during training\n",
    "plt.subplot(211)\n",
    "plt.title('Loss')\n",
    "plt.plot(hist.history['loss'], label='train')\n",
    "plt.plot(hist.history['val_loss'], label='val')\n",
    "plt.legend()\n",
    "# plot accuracy during training\n",
    "plt.subplot(212)\n",
    "plt.title('Accuracy')\n",
    "plt.plot(hist.history['sparse_categorical_accuracy'], label='train')\n",
    "plt.plot(hist.history['val_sparse_categorical_accuracy'], label='val')\n",
    "plt.legend()\n",
    "plt.show()"
   ]
  },
  {
   "cell_type": "code",
   "execution_count": 19,
   "metadata": {},
   "outputs": [
    {
     "name": "stdout",
     "output_type": "stream",
     "text": [
      "Accuracy: 0.878205\n",
      "Precision: 0.878205\n",
      "Recall: 0.878205\n",
      "F1 score: 0.878205\n",
      "Confusion Matrix:\n",
      "[[198   9  27]\n",
      " [  7 228   7]\n",
      " [  3  23 122]]\n"
     ]
    },
    {
     "data": {
      "text/plain": [
       "<AxesSubplot:>"
      ]
     },
     "execution_count": 19,
     "metadata": {},
     "output_type": "execute_result"
    },
    {
     "data": {
      "image/png": "[encoded data removed]",
      "text/plain": [
       "<Figure size 720x504 with 2 Axes>"
      ]
     },
     "metadata": {
      "needs_background": "light"
     },
     "output_type": "display_data"
    }
   ],
   "source": [
    "# predict classes for test set\n",
    "\n",
    "# reduce to 1d array\n",
    "# yhat_classes = yhat_classes[:, 0]\n",
    " \n",
    "# accuracy: (tp + tn) / (p + n)\n",
    "accuracy = accuracy_score(y_test, yhat_classes)\n",
    "print('Accuracy: %f' % accuracy)\n",
    "\n",
    "# precision tp / (tp + fp)\n",
    "precision = precision_score(y_test, yhat_classes, average = 'micro')\n",
    "print('Precision: %f' % precision)\n",
    "\n",
    "# recall: tp / (tp + fn)\n",
    "recall = recall_score(y_test, yhat_classes, average = 'micro')\n",
    "print('Recall: %f' % recall)\n",
    "\n",
    "# f1: 2 tp / (2 tp + fp + fn)\n",
    "f1 = f1_score(y_test, yhat_classes, average = 'micro')\n",
    "print('F1 score: %f' % f1)\n",
    "\n",
    "# confusion matrix\n",
    "matrix = confusion_matrix(y_test, yhat_classes)\n",
    "print(f'Confusion Matrix:\\n{matrix}')\n",
    "\n",
    "categories = ['Normal', 'Bacteria-Pneumonia', 'Virus-Pneumonia']\n",
    "df_cm = pd.DataFrame(matrix, index = [i for i in categories],\n",
    "                  columns = [i for i in categories])\n",
    "plt.figure(figsize = (10,7))\n",
    "sn.heatmap(df_cm, annot = True)"
   ]
  },
  {
   "cell_type": "code",
   "execution_count": 20,
   "metadata": {},
   "outputs": [],
   "source": [
    "model = load_model('pneumonia_train.h5')\n",
    "model_eval = model.evaluate(X_test, y_test, verbose = 0)"
   ]
  },
  {
   "cell_type": "code",
   "execution_count": 21,
   "metadata": {},
   "outputs": [
    {
     "name": "stdout",
     "output_type": "stream",
     "text": [
      "[0.4415041506290436, 0.8782051205635071]\n"
     ]
    }
   ],
   "source": [
    "print(model_eval)"
   ]
  },
  {
   "cell_type": "code",
   "execution_count": null,
   "metadata": {},
   "outputs": [],
   "source": []
  }
 ],
 "metadata": {
  "kernelspec": {
   "display_name": "Python 3 (ipykernel)",
   "language": "python",
   "name": "python3"
  },
  "language_info": {
   "codemirror_mode": {
    "name": "ipython",
    "version": 3
   },
   "file_extension": ".py",
   "mimetype": "text/x-python",
   "name": "python",
   "nbconvert_exporter": "python",
   "pygments_lexer": "ipython3",
   "version": "3.9.9"
  }
 },
 "nbformat": 4,
 "nbformat_minor": 1
}
