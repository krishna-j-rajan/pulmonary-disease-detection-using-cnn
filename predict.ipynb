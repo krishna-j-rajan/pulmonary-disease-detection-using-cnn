{
 "cells": [
  {
   "cell_type": "code",
   "execution_count": 1,
   "metadata": {},
   "outputs": [
    {
     "name": "stdout",
     "output_type": "stream",
     "text": [
      "1/1 [==============================] - 0s 346ms/step\n",
      "This image most likely belongs to Bacteria-Pneumonia with a 57.61 percent confidence.\n"
     ]
    }
   ],
   "source": [
    "from tensorflow import keras\n",
    "import tensorflow as tf\n",
    "import numpy as np\n",
    "img_height = 224\n",
    "img_width = 224\n",
    "model = keras.models.load_model(\"./pneumonia_train.h5\")\n",
    "# path = './ZhangLabData/CellData/chest_xray/test/PNEUMONIA/BACTERIA-1351146-0001.jpeg'\n",
    "path = './BACTERIA-1351146-0001.jpeg'\n",
    "img = keras.preprocessing.image.load_img(\n",
    "    path, target_size=(img_height, img_width)\n",
    ")\n",
    "img_array = keras.utils.img_to_array(img)\n",
    "img_array = np.expand_dims(img_array, 0) # Create a batch\n",
    "\n",
    "predictions = model.predict(img_array)\n",
    "score = tf.nn.softmax(predictions[0])\n",
    "class_names = ['Normal', 'Bacteria-Pneumonia', 'Virus-Pneumonia']\n",
    "\n",
    "print( \n",
    "    \"This image most likely belongs to {} with a {:.2f} percent confidence.\"\n",
    "    .format(class_names[np.argmax(score)], 100 * np.max(score))\n",
    ")\n"
   ]
  },
  {
   "cell_type": "code",
   "execution_count": null,
   "metadata": {},
   "outputs": [],
   "source": []
  }
 ],
 "metadata": {
  "kernelspec": {
   "display_name": "Python 3 (ipykernel)",
   "language": "python",
   "name": "python3"
  },
  "language_info": {
   "codemirror_mode": {
    "name": "ipython",
    "version": 3
   },
   "file_extension": ".py",
   "mimetype": "text/x-python",
   "name": "python",
   "nbconvert_exporter": "python",
   "pygments_lexer": "ipython3",
   "version": "3.8.13"
  }
 },
 "nbformat": 4,
 "nbformat_minor": 2
}
